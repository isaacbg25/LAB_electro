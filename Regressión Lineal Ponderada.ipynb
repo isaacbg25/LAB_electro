{
 "cells": [
  {
   "cell_type": "code",
   "execution_count": 1,
   "metadata": {
    "colab": {
     "base_uri": "https://localhost:8080/"
    },
    "executionInfo": {
     "elapsed": 3,
     "status": "ok",
     "timestamp": 1745428411193,
     "user": {
      "displayName": "Miguel Ordejon",
      "userId": "12367020124698461856"
     },
     "user_tz": -120
    },
    "id": "GUD-N-LymnUj",
    "outputId": "3879808b-85bf-4e35-dacd-12c3ee3264b0"
   },
   "outputs": [
    {
     "name": "stdout",
     "output_type": "stream",
     "text": [
      "[[ 1.00073743e+00]\n",
      " [-1.42540248e-04]]\n",
      "[8.46345432e-02 5.99664378e-05]\n"
     ]
    }
   ],
   "source": [
    "import numpy as np\n",
    "\n",
    "W = np.diag([256000000, 85333333.33, 42666666.67, 21333333.33, 17066666.67])\n",
    "X = ([0.0001,1],\n",
    "     [0.0004,1],\n",
    "     [0.0009,1],\n",
    "     [0.0016,1],\n",
    "     [0.0025,1])\n",
    "Y = ([0],\n",
    "     [0.000135],\n",
    "     [0.000625],\n",
    "     [0.00171875],\n",
    "     [0.00234375])\n",
    "\n",
    "Mβ = np.linalg.inv(np.transpose(X) @ W @ X )\n",
    "β = Mβ @ np.transpose(X) @ W @ Y\n",
    "\n",
    "print(β)\n",
    "print(np.sqrt(np.diagonal(Mβ)))"
   ]
  }
 ],
 "metadata": {
  "colab": {
   "authorship_tag": "ABX9TyPsin9/sAIGOuTpZSKWTxHS",
   "provenance": []
  },
  "kernelspec": {
   "display_name": "Python 3",
   "name": "python3"
  },
  "language_info": {
   "codemirror_mode": {
    "name": "ipython",
    "version": 3
   },
   "file_extension": ".py",
   "mimetype": "text/x-python",
   "name": "python",
   "nbconvert_exporter": "python",
   "pygments_lexer": "ipython3",
   "version": "3.12.1"
  }
 },
 "nbformat": 4,
 "nbformat_minor": 0
}
