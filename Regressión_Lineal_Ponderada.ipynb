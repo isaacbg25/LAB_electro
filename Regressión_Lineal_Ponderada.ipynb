{
  "nbformat": 4,
  "nbformat_minor": 0,
  "metadata": {
    "colab": {
      "provenance": []
    },
    "kernelspec": {
      "name": "python3",
      "display_name": "Python 3"
    },
    "language_info": {
      "name": "python"
    }
  },
  "cells": [
    {
      "cell_type": "code",
      "execution_count": 73,
      "metadata": {
        "colab": {
          "base_uri": "https://localhost:8080/",
          "height": 90
        },
        "id": "GUD-N-LymnUj",
        "outputId": "338c501e-8c63-43ab-9a88-ad0bb26f88f1"
      },
      "outputs": [
        {
          "output_type": "stream",
          "name": "stdout",
          "text": [
            "m = 4.000000000000004e-05 n = -3.285714285714388e-06\n",
            "um = 1.0155048006302708e-05 un = 2.1982135605136448e-05\n",
            "r^2 = 0.9986974867970595\n"
          ]
        },
        {
          "output_type": "execute_result",
          "data": {
            "text/plain": [
              "'\\n'"
            ],
            "application/vnd.google.colaboratory.intrinsic+json": {
              "type": "string"
            }
          },
          "metadata": {},
          "execution_count": 73
        }
      ],
      "source": [
        "from os import X_OK\n",
        "import numpy as np\n",
        "\n",
        "#valors\n",
        "x = ([1,2,3])\n",
        "y = ([0.0000375, 0.000075, 0.0001175])\n",
        "\n",
        "#incerteces\n",
        "Wy = np.diag([4848484848, 4444444444, 4848484848])\n",
        "Wx = np.diag([1,1,1])\n",
        "\n",
        "n = len(x)\n",
        "U = ([1])*n\n",
        "\n",
        "\n",
        "# y = Ax + B\n",
        "\n",
        "AX = np.transpose(np.array([x,U]))\n",
        "Y = np.transpose(y)\n",
        "\n",
        "xMβ = np.linalg.inv(np.transpose(AX) @ Wy @ AX )\n",
        "xβ = xMβ @ np.transpose(AX) @ Wy @ Y\n",
        "\n",
        "'''\n",
        "# x = A'y + B'\n",
        "\n",
        "AY = np.transpose(np.array([y,U]))\n",
        "X = np.transpose(x)\n",
        "\n",
        "yMβ = np.linalg.inv(np.transpose(AY) @ Wx @ AY)\n",
        "yβ = yMβ @ np.transpose(AY) @ Wx @ X\n",
        "'''\n",
        "\n",
        "print('m =', xβ[0], 'n =', xβ[1])\n",
        "print('um =', np.sqrt(np.diagonal(xMβ))[0], 'un =', np.sqrt(np.diagonal(xMβ))[1])\n",
        "\n",
        "'''\n",
        "print(yβ)\n",
        "print(np.sqrt(np.diagonal(yMβ)))\n",
        "'''\n",
        "\n",
        "#r^2\n",
        "Σy = 0\n",
        "Sy = 0\n",
        "Ry = 0\n",
        "\n",
        "for yi in y:\n",
        "  Σy += yi\n",
        "Σy = Σy/len(y)\n",
        "for yi in y:\n",
        "  Sy += (Σy-yi)**2\n",
        "for i in range(len(y)):\n",
        "  Ry += ((xβ[0]*x[i]+xβ[1])-y[i])**2\n",
        "\n",
        "rr = 1 - (Ry/Sy)\n",
        "print('r^2 =',rr)\n",
        "\n",
        "'''\n",
        "'''"
      ]
    }
  ]
}